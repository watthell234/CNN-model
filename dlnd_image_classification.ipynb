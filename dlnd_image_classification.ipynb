{
 "cells": [
  {
   "cell_type": "markdown",
   "metadata": {
    "collapsed": true
   },
   "source": [
    "# Image Classification\n",
    "In this project, you'll classify images from the [CIFAR-10 dataset](https://www.cs.toronto.edu/~kriz/cifar.html).  The dataset consists of airplanes, dogs, cats, and other objects. You'll preprocess the images, then train a convolutional neural network on all the samples. The images need to be normalized and the labels need to be one-hot encoded.  You'll get to apply what you learned and build a convolutional, max pooling, dropout, and fully connected layers.  At the end, you'll get to see your neural network's predictions on the sample images.\n",
    "## Get the Data\n",
    "Run the following cell to download the [CIFAR-10 dataset for python](https://www.cs.toronto.edu/~kriz/cifar-10-python.tar.gz)."
   ]
  },
  {
   "cell_type": "code",
   "execution_count": 139,
   "metadata": {
    "collapsed": false
   },
   "outputs": [
    {
     "name": "stdout",
     "output_type": "stream",
     "text": [
      "All files found!\n"
     ]
    }
   ],
   "source": [
    "\"\"\"\n",
    "DON'T MODIFY ANYTHING IN THIS CELL THAT IS BELOW THIS LINE\n",
    "\"\"\"\n",
    "from urllib.request import urlretrieve\n",
    "from os.path import isfile, isdir\n",
    "from tqdm import tqdm\n",
    "import problem_unittests as tests\n",
    "import tarfile\n",
    "\n",
    "cifar10_dataset_folder_path = 'cifar-10-batches-py'\n",
    "\n",
    "# Use Floyd's cifar-10 dataset if present\n",
    "floyd_cifar10_location = '/input/cifar-10/python.tar.gz'\n",
    "if isfile(floyd_cifar10_location):\n",
    "    tar_gz_path = floyd_cifar10_location\n",
    "else:\n",
    "    tar_gz_path = 'cifar-10-python.tar.gz'\n",
    "\n",
    "class DLProgress(tqdm):\n",
    "    last_block = 0\n",
    "\n",
    "    def hook(self, block_num=1, block_size=1, total_size=None):\n",
    "        self.total = total_size\n",
    "        self.update((block_num - self.last_block) * block_size)\n",
    "        self.last_block = block_num\n",
    "\n",
    "if not isfile(tar_gz_path):\n",
    "    with DLProgress(unit='B', unit_scale=True, miniters=1, desc='CIFAR-10 Dataset') as pbar:\n",
    "        urlretrieve(\n",
    "            'https://www.cs.toronto.edu/~kriz/cifar-10-python.tar.gz',\n",
    "            tar_gz_path,\n",
    "            pbar.hook)\n",
    "\n",
    "if not isdir(cifar10_dataset_folder_path):\n",
    "    with tarfile.open(tar_gz_path) as tar:\n",
    "        tar.extractall()\n",
    "        tar.close()\n",
    "\n",
    "\n",
    "tests.test_folder_path(cifar10_dataset_folder_path)"
   ]
  },
  {
   "cell_type": "markdown",
   "metadata": {},
   "source": [
    "## Explore the Data\n",
    "The dataset is broken into batches to prevent your machine from running out of memory.  The CIFAR-10 dataset consists of 5 batches, named `data_batch_1`, `data_batch_2`, etc.. Each batch contains the labels and images that are one of the following:\n",
    "* airplane\n",
    "* automobile\n",
    "* bird\n",
    "* cat\n",
    "* deer\n",
    "* dog\n",
    "* frog\n",
    "* horse\n",
    "* ship\n",
    "* truck\n",
    "\n",
    "Understanding a dataset is part of making predictions on the data.  Play around with the code cell below by changing the `batch_id` and `sample_id`. The `batch_id` is the id for a batch (1-5). The `sample_id` is the id for a image and label pair in the batch.\n",
    "\n",
    "Ask yourself \"What are all possible labels?\", \"What is the range of values for the image data?\", \"Are the labels in order or random?\".  Answers to questions like these will help you preprocess the data and end up with better predictions."
   ]
  },
  {
   "cell_type": "code",
   "execution_count": 140,
   "metadata": {
    "collapsed": false
   },
   "outputs": [
    {
     "name": "stdout",
     "output_type": "stream",
     "text": [
      "\n",
      "Stats of batch 5:\n",
      "Samples: 10000\n",
      "Label Counts: {0: 1014, 1: 1014, 2: 952, 3: 1016, 4: 997, 5: 1025, 6: 980, 7: 977, 8: 1003, 9: 1022}\n",
      "First 20 Labels: [1, 8, 5, 1, 5, 7, 4, 3, 8, 2, 7, 2, 0, 1, 5, 9, 6, 2, 0, 8]\n",
      "\n",
      "Example of Image 9999:\n",
      "Image - Min Value: 4 Max Value: 255\n",
      "Image - Shape: (32, 32, 3)\n",
      "Label - Label Id: 1 Name: automobile\n"
     ]
    },
    {
     "data": {
      "image/png": "[encoded data removed]",
      "text/plain": [
       "<matplotlib.figure.Figure at 0x1cf80673cf8>"
      ]
     },
     "metadata": {
      "image/png": {
       "height": 250,
       "width": 253
      }
     },
     "output_type": "display_data"
    }
   ],
   "source": [
    "%matplotlib inline\n",
    "%config InlineBackend.figure_format = 'retina'\n",
    "\n",
    "import helper\n",
    "import numpy as np\n",
    "\n",
    "# Explore the dataset\n",
    "batch_id = 5\n",
    "sample_id = 9999\n",
    "helper.display_stats(cifar10_dataset_folder_path, batch_id, sample_id)"
   ]
  },
  {
   "cell_type": "markdown",
   "metadata": {},
   "source": [
    "## Implement Preprocess Functions\n",
    "### Normalize\n",
    "In the cell below, implement the `normalize` function to take in image data, `x`, and return it as a normalized Numpy array. The values should be in the range of 0 to 1, inclusive.  The return object should be the same shape as `x`."
   ]
  },
  {
   "cell_type": "code",
   "execution_count": 141,
   "metadata": {
    "collapsed": false
   },
   "outputs": [
    {
     "name": "stdout",
     "output_type": "stream",
     "text": [
      "Tests Passed\n"
     ]
    }
   ],
   "source": [
    "def normalize(x):\n",
    "    \"\"\"\n",
    "    Normalize a list of sample image data in the range of 0 to 1\n",
    "    : x: List of image data.  The image shape is (32, 32, 3)\n",
    "    : return: Numpy array of normalize data\n",
    "    \"\"\"\n",
    "    # TODO: Implement Function\n",
    "    \n",
    "    return x/np.max(x)\n",
    "\n",
    "\n",
    "\"\"\"\n",
    "DON'T MODIFY ANYTHING IN THIS CELL THAT IS BELOW THIS LINE\n",
    "\"\"\"\n",
    "tests.test_normalize(normalize)"
   ]
  },
  {
   "cell_type": "markdown",
   "metadata": {},
   "source": [
    "### One-hot encode\n",
    "Just like the previous code cell, you'll be implementing a function for preprocessing.  This time, you'll implement the `one_hot_encode` function. The input, `x`, are a list of labels.  Implement the function to return the list of labels as One-Hot encoded Numpy array.  The possible values for labels are 0 to 9. The one-hot encoding function should return the same encoding for each value between each call to `one_hot_encode`.  Make sure to save the map of encodings outside the function.\n",
    "\n",
    "Hint: Don't reinvent the wheel."
   ]
  },
  {
   "cell_type": "code",
   "execution_count": 142,
   "metadata": {
    "collapsed": false
   },
   "outputs": [
    {
     "name": "stdout",
     "output_type": "stream",
     "text": [
      "Tests Passed\n"
     ]
    }
   ],
   "source": [
    "from sklearn import preprocessing\n",
    "\n",
    "def one_hot_encode(x):\n",
    "    \"\"\"\n",
    "    One hot encode a list of sample labels. Return a one-hot encoded vector for each label.\n",
    "    : x: List of sample Labels\n",
    "    : return: Numpy array of one-hot encoded labels\n",
    "    \"\"\"\n",
    "    # TODO: Implement Function\n",
    "    return np.eye(10)[x]\n",
    "\n",
    "\n",
    "\"\"\"\n",
    "DON'T MODIFY ANYTHING IN THIS CELL THAT IS BELOW THIS LINE\n",
    "\"\"\"\n",
    "tests.test_one_hot_encode(one_hot_encode)"
   ]
  },
  {
   "cell_type": "markdown",
   "metadata": {},
   "source": [
    "### Randomize Data\n",
    "As you saw from exploring the data above, the order of the samples are randomized.  It doesn't hurt to randomize it again, but you don't need to for this dataset."
   ]
  },
  {
   "cell_type": "markdown",
   "metadata": {},
   "source": [
    "## Preprocess all the data and save it\n",
    "Running the code cell below will preprocess all the CIFAR-10 data and save it to file. The code below also uses 10% of the training data for validation."
   ]
  },
  {
   "cell_type": "code",
   "execution_count": 143,
   "metadata": {
    "collapsed": false
   },
   "outputs": [],
   "source": [
    "\"\"\"\n",
    "DON'T MODIFY ANYTHING IN THIS CELL\n",
    "\"\"\"\n",
    "# Preprocess Training, Validation, and Testing Data\n",
    "helper.preprocess_and_save_data(cifar10_dataset_folder_path, normalize, one_hot_encode)"
   ]
  },
  {
   "cell_type": "markdown",
   "metadata": {},
   "source": [
    "# Check Point\n",
    "This is your first checkpoint.  If you ever decide to come back to this notebook or have to restart the notebook, you can start from here.  The preprocessed data has been saved to disk."
   ]
  },
  {
   "cell_type": "code",
   "execution_count": 144,
   "metadata": {
    "collapsed": true
   },
   "outputs": [],
   "source": [
    "\"\"\"\n",
    "DON'T MODIFY ANYTHING IN THIS CELL\n",
    "\"\"\"\n",
    "import pickle\n",
    "import problem_unittests as tests\n",
    "import helper\n",
    "\n",
    "# Load the Preprocessed Validation data\n",
    "valid_features, valid_labels = pickle.load(open('preprocess_validation.p', mode='rb'))"
   ]
  },
  {
   "cell_type": "markdown",
   "metadata": {},
   "source": [
    "## Build the network\n",
    "For the neural network, you'll build each layer into a function.  Most of the code you've seen has been outside of functions. To test your code more thoroughly, we require that you put each layer in a function.  This allows us to give you better feedback and test for simple mistakes using our unittests before you submit your project.\n",
    "\n",
    ">**Note:** If you're finding it hard to dedicate enough time for this course each week, we've provided a small shortcut to this part of the project. In the next couple of problems, you'll have the option to use classes from the [TensorFlow Layers](https://www.tensorflow.org/api_docs/python/tf/layers) or [TensorFlow Layers (contrib)](https://www.tensorflow.org/api_guides/python/contrib.layers) packages to build each layer, except the layers you build in the \"Convolutional and Max Pooling Layer\" section.  TF Layers is similar to Keras's and TFLearn's abstraction to layers, so it's easy to pickup.\n",
    "\n",
    ">However, if you would like to get the most out of this course, try to solve all the problems _without_ using anything from the TF Layers packages. You **can** still use classes from other packages that happen to have the same name as ones you find in TF Layers! For example, instead of using the TF Layers version of the `conv2d` class, [tf.layers.conv2d](https://www.tensorflow.org/api_docs/python/tf/layers/conv2d), you would want to use the TF Neural Network version of `conv2d`, [tf.nn.conv2d](https://www.tensorflow.org/api_docs/python/tf/nn/conv2d). \n",
    "\n",
    "Let's begin!\n",
    "\n",
    "### Input\n",
    "The neural network needs to read the image data, one-hot encoded labels, and dropout keep probability. Implement the following functions\n",
    "* Implement `neural_net_image_input`\n",
    " * Return a [TF Placeholder](https://www.tensorflow.org/api_docs/python/tf/placeholder)\n",
    " * Set the shape using `image_shape` with batch size set to `None`.\n",
    " * Name the TensorFlow placeholder \"x\" using the TensorFlow `name` parameter in the [TF Placeholder](https://www.tensorflow.org/api_docs/python/tf/placeholder).\n",
    "* Implement `neural_net_label_input`\n",
    " * Return a [TF Placeholder](https://www.tensorflow.org/api_docs/python/tf/placeholder)\n",
    " * Set the shape using `n_classes` with batch size set to `None`.\n",
    " * Name the TensorFlow placeholder \"y\" using the TensorFlow `name` parameter in the [TF Placeholder](https://www.tensorflow.org/api_docs/python/tf/placeholder).\n",
    "* Implement `neural_net_keep_prob_input`\n",
    " * Return a [TF Placeholder](https://www.tensorflow.org/api_docs/python/tf/placeholder) for dropout keep probability.\n",
    " * Name the TensorFlow placeholder \"keep_prob\" using the TensorFlow `name` parameter in the [TF Placeholder](https://www.tensorflow.org/api_docs/python/tf/placeholder).\n",
    "\n",
    "These names will be used at the end of the project to load your saved model.\n",
    "\n",
    "Note: `None` for shapes in TensorFlow allow for a dynamic size."
   ]
  },
  {
   "cell_type": "code",
   "execution_count": 145,
   "metadata": {
    "collapsed": false
   },
   "outputs": [
    {
     "name": "stdout",
     "output_type": "stream",
     "text": [
      "Image Input Tests Passed.\n",
      "Label Input Tests Passed.\n",
      "Keep Prob Tests Passed.\n"
     ]
    }
   ],
   "source": [
    "import tensorflow as tf\n",
    "\n",
    "def neural_net_image_input(image_shape):\n",
    "    \"\"\"\n",
    "    Return a Tensor for a batch of image input\n",
    "    : image_shape: Shape of the images\n",
    "    : return: Tensor for image input.\n",
    "    \"\"\"\n",
    "    # TODO: Implement Function\n",
    "    image_shape = tf.placeholder(tf.float32, shape=(None,image_shape[0], image_shape[1], image_shape[2]), name='x' )\n",
    "    \n",
    "    return image_shape\n",
    "\n",
    "\n",
    "def neural_net_label_input(n_classes):\n",
    "    \"\"\"\n",
    "    Return a Tensor for a batch of label input\n",
    "    : n_classes: Number of classes\n",
    "    : return: Tensor for label input.\n",
    "    \"\"\"\n",
    "    # TODO: Implement Function\n",
    "    n_classes = tf.placeholder(tf.float32, shape=(None, n_classes), name = 'y')\n",
    "    \n",
    "    return n_classes\n",
    "\n",
    "\n",
    "def neural_net_keep_prob_input():\n",
    "    \"\"\"\n",
    "    Return a Tensor for keep probability\n",
    "    : return: Tensor for keep probability.\n",
    "    \"\"\"\n",
    "    # TODO: Implement Function\n",
    "    dropout = tf.placeholder(tf.float32, None,name='keep_prob')\n",
    "    \n",
    "    return dropout\n",
    "\n",
    "\n",
    "\"\"\"\n",
    "DON'T MODIFY ANYTHING IN THIS CELL THAT IS BELOW THIS LINE\n",
    "\"\"\"\n",
    "tf.reset_default_graph()\n",
    "tests.test_nn_image_inputs(neural_net_image_input)\n",
    "tests.test_nn_label_inputs(neural_net_label_input)\n",
    "tests.test_nn_keep_prob_inputs(neural_net_keep_prob_input)"
   ]
  },
  {
   "cell_type": "markdown",
   "metadata": {},
   "source": [
    "### Convolution and Max Pooling Layer\n",
    "Convolution layers have a lot of success with images. For this code cell, you should implement the function `conv2d_maxpool` to apply convolution then max pooling:\n",
    "* Create the weight and bias using `conv_ksize`, `conv_num_outputs` and the shape of `x_tensor`.\n",
    "* Apply a convolution to `x_tensor` using weight and `conv_strides`.\n",
    " * We recommend you use same padding, but you're welcome to use any padding.\n",
    "* Add bias\n",
    "* Add a nonlinear activation to the convolution.\n",
    "* Apply Max Pooling using `pool_ksize` and `pool_strides`.\n",
    " * We recommend you use same padding, but you're welcome to use any padding.\n",
    "\n",
    "**Note:** You **can't** use [TensorFlow Layers](https://www.tensorflow.org/api_docs/python/tf/layers) or [TensorFlow Layers (contrib)](https://www.tensorflow.org/api_guides/python/contrib.layers) for **this** layer, but you can still use TensorFlow's [Neural Network](https://www.tensorflow.org/api_docs/python/tf/nn) package. You may still use the shortcut option for all the **other** layers."
   ]
  },
  {
   "cell_type": "code",
   "execution_count": 146,
   "metadata": {
    "collapsed": false
   },
   "outputs": [
    {
     "name": "stdout",
     "output_type": "stream",
     "text": [
      "Tests Passed\n"
     ]
    }
   ],
   "source": [
    "def conv2d_maxpool(x_tensor, conv_num_outputs, conv_ksize, conv_strides, pool_ksize, pool_strides):\n",
    "    \"\"\"\n",
    "    Apply convolution then max pooling to x_tensor\n",
    "    :param x_tensor: TensorFlow Tensor\n",
    "    :param conv_num_outputs: Number of outputs for the convolutional layer\n",
    "    :param conv_ksize: kernal size 2-D Tuple for the convolutional layer\n",
    "    :param conv_strides: Stride 2-D Tuple for convolution \n",
    "    :param pool_ksize: kernal size 2-D Tuple for pool\n",
    "    :param pool_strides: Stride 2-D Tuple for pool\n",
    "    : return: A tensor that represents convolution and max pooling of x_tensor\n",
    "    \"\"\"\n",
    "    # TODO: Implement Function\n",
    "    channel_x = x_tensor.get_shape().as_list()[3]\n",
    "    \n",
    "    weight = tf.Variable(tf.truncated_normal([conv_ksize[0], conv_ksize[1], channel_x, conv_num_outputs],mean=0.0,stddev=0.1,dtype=tf.float32))\n",
    "    \n",
    "    bias = tf.Variable(tf.zeros(conv_num_outputs))\n",
    "    \n",
    "    conv_layer = tf.nn.conv2d(x_tensor, weight, strides = [1,conv_strides[0],conv_strides[1], 1], padding = 'SAME')\n",
    "    \n",
    "    conv_layer = tf.nn.bias_add(conv_layer, bias)\n",
    "    \n",
    "    conv_layer = tf.nn.relu(conv_layer)\n",
    "    \n",
    "    conv_layer = tf.nn.max_pool(conv_layer, ksize = [1, pool_ksize[0], pool_ksize[1], 1], strides = [1, pool_strides[0], pool_strides[1], 1], padding = 'SAME')\n",
    "    \n",
    "\n",
    "    return conv_layer\n",
    "   \n",
    "\n",
    "    \n",
    "\n",
    "\"\"\"\n",
    "DON'T MODIFY ANYTHING IN THIS CELL THAT IS BELOW THIS LINE\n",
    "\"\"\"\n",
    "tests.test_con_pool(conv2d_maxpool)"
   ]
  },
  {
   "cell_type": "markdown",
   "metadata": {},
   "source": [
    "### Flatten Layer\n",
    "Implement the `flatten` function to change the dimension of `x_tensor` from a 4-D tensor to a 2-D tensor.  The output should be the shape (*Batch Size*, *Flattened Image Size*). Shortcut option: you can use classes from the [TensorFlow Layers](https://www.tensorflow.org/api_docs/python/tf/layers) or [TensorFlow Layers (contrib)](https://www.tensorflow.org/api_guides/python/contrib.layers) packages for this layer. For more of a challenge, only use other TensorFlow packages."
   ]
  },
  {
   "cell_type": "code",
   "execution_count": 147,
   "metadata": {
    "collapsed": false
   },
   "outputs": [
    {
     "name": "stdout",
     "output_type": "stream",
     "text": [
      "Tests Passed\n"
     ]
    }
   ],
   "source": [
    "def flatten(x_tensor):\n",
    "    \"\"\"\n",
    "    Flatten x_tensor to (Batch Size, Flattened Image Size)\n",
    "    : x_tensor: A tensor of size (Batch Size, ...), where ... are the image dimensions.\n",
    "    : return: A tensor of size (Batch Size, Flattened Image Size).\n",
    "    \"\"\"\n",
    "    # TODO: Implement Function\n",
    "    x_shape = x_tensor.get_shape().as_list()\n",
    "    height = x_shape[1]\n",
    "    width = x_shape[2]\n",
    "    channel = x_shape[3]\n",
    "    img_size = height*width*channel\n",
    "    x_tensor = tf.reshape(x_tensor, [-1, img_size])\n",
    "    return x_tensor\n",
    "\n",
    "\n",
    "\"\"\"\n",
    "DON'T MODIFY ANYTHING IN THIS CELL THAT IS BELOW THIS LINE\n",
    "\"\"\"\n",
    "tests.test_flatten(flatten)"
   ]
  },
  {
   "cell_type": "markdown",
   "metadata": {},
   "source": [
    "### Fully-Connected Layer\n",
    "Implement the `fully_conn` function to apply a fully connected layer to `x_tensor` with the shape (*Batch Size*, *num_outputs*). Shortcut option: you can use classes from the [TensorFlow Layers](https://www.tensorflow.org/api_docs/python/tf/layers) or [TensorFlow Layers (contrib)](https://www.tensorflow.org/api_guides/python/contrib.layers) packages for this layer. For more of a challenge, only use other TensorFlow packages."
   ]
  },
  {
   "cell_type": "code",
   "execution_count": 148,
   "metadata": {
    "collapsed": false
   },
   "outputs": [
    {
     "name": "stdout",
     "output_type": "stream",
     "text": [
      "Tests Passed\n"
     ]
    }
   ],
   "source": [
    "def fully_conn(x_tensor, num_outputs):\n",
    "    \"\"\"\n",
    "    Apply a fully connected layer to x_tensor using weight and bias\n",
    "    : x_tensor: A 2-D tensor where the first dimension is batch size.\n",
    "    : num_outputs: The number of output that the new tensor should be.\n",
    "    : return: A 2-D tensor where the second dimension is num_outputs.\n",
    "    \"\"\"\n",
    "    # TODO: Implement Function\n",
    "    x_shape = x_tensor.get_shape().as_list()\n",
    "    img_size = x_shape[1]\n",
    "    w = tf.Variable(tf.truncated_normal([img_size , num_outputs],mean=0.0,stddev=0.1, dtype=tf.float32))\n",
    "    b = tf.Variable(tf.zeros(num_outputs))\n",
    "    fc = tf.add(tf.matmul(x_tensor,w),b)\n",
    "    return tf.nn.relu(fc)\n",
    "\n",
    "\n",
    "\"\"\"\n",
    "DON'T MODIFY ANYTHING IN THIS CELL THAT IS BELOW THIS LINE\n",
    "\"\"\"\n",
    "tests.test_fully_conn(fully_conn)"
   ]
  },
  {
   "cell_type": "markdown",
   "metadata": {},
   "source": [
    "### Output Layer\n",
    "Implement the `output` function to apply a fully connected layer to `x_tensor` with the shape (*Batch Size*, *num_outputs*). Shortcut option: you can use classes from the [TensorFlow Layers](https://www.tensorflow.org/api_docs/python/tf/layers) or [TensorFlow Layers (contrib)](https://www.tensorflow.org/api_guides/python/contrib.layers) packages for this layer. For more of a challenge, only use other TensorFlow packages.\n",
    "\n",
    "**Note:** Activation, softmax, or cross entropy should **not** be applied to this."
   ]
  },
  {
   "cell_type": "code",
   "execution_count": 149,
   "metadata": {
    "collapsed": false
   },
   "outputs": [
    {
     "name": "stdout",
     "output_type": "stream",
     "text": [
      "Tests Passed\n"
     ]
    }
   ],
   "source": [
    "def output(x_tensor, num_outputs):\n",
    "    \"\"\"\n",
    "    Apply a output layer to x_tensor using weight and bias\n",
    "    : x_tensor: A 2-D tensor where the first dimension is batch size.\n",
    "    : num_outputs: The number of output that the new tensor should be.\n",
    "    : return: A 2-D tensor where the second dimension is num_outputs.\n",
    "    \"\"\"\n",
    "    # TODO: Implement Function\n",
    "    x_shape = x_tensor.get_shape().as_list()\n",
    "    img_size = x_shape[1]\n",
    "    w = tf.Variable(tf.truncated_normal([img_size , num_outputs],mean=0.0,stddev=.1,dtype=tf.float32))\n",
    "    b = tf.Variable(tf.zeros(num_outputs))\n",
    "    fc = tf.add(tf.matmul(x_tensor,w),b)\n",
    "    return fc\n",
    "\n",
    "\n",
    "\"\"\"\n",
    "DON'T MODIFY ANYTHING IN THIS CELL THAT IS BELOW THIS LINE\n",
    "\"\"\"\n",
    "tests.test_output(output)"
   ]
  },
  {
   "cell_type": "markdown",
   "metadata": {},
   "source": [
    "### Create Convolutional Model\n",
    "Implement the function `conv_net` to create a convolutional neural network model. The function takes in a batch of images, `x`, and outputs logits.  Use the layers you created above to create this model:\n",
    "\n",
    "* Apply 1, 2, or 3 Convolution and Max Pool layers\n",
    "* Apply a Flatten Layer\n",
    "* Apply 1, 2, or 3 Fully Connected Layers\n",
    "* Apply an Output Layer\n",
    "* Return the output\n",
    "* Apply [TensorFlow's Dropout](https://www.tensorflow.org/api_docs/python/tf/nn/dropout) to one or more layers in the model using `keep_prob`. "
   ]
  },
  {
   "cell_type": "code",
   "execution_count": 150,
   "metadata": {
    "collapsed": false,
    "scrolled": true
   },
   "outputs": [
    {
     "name": "stdout",
     "output_type": "stream",
     "text": [
      "Neural Network Built!\n"
     ]
    }
   ],
   "source": [
    "def conv_net(x, keep_prob):\n",
    "    \"\"\"\n",
    "    Create a convolutional neural network model\n",
    "    : x: Placeholder tensor that holds image data.\n",
    "    : keep_prob: Placeholder tensor that hold dropout keep probability.\n",
    "    : return: Tensor that represents logits\n",
    "    \"\"\"\n",
    "    # TODO: Apply 1, 2, or 3 Convolution and Max Pool layers\n",
    "    #    Play around with different number of outputs, kernel size and stride\n",
    "    # Function Definition from Above:\n",
    "    #    conv2d_maxpool(x_tensor, conv_num_outputs, conv_ksize, conv_strides, pool_ksize, pool_strides)\n",
    "    #image_shape = tf.placeholder(tf.float32, shape=(None,image_shape[0], image_shape[1], image_shape[2]), name='x' )\n",
    "    \n",
    "    conv_num_outputs = 16\n",
    "    conv_num_outputs2 = 32\n",
    "    conv_num_outputs3 = 64\n",
    "    conv_ksize = (2,2)\n",
    "    conv_strides = (1,1)\n",
    "    pool_ksize = (2,2)\n",
    "    pool_strides = (2,2) \n",
    "    \n",
    "    convol =  conv2d_maxpool(x, conv_num_outputs, conv_ksize, conv_strides, pool_ksize, pool_strides)\n",
    "    convol_1drop = tf.nn.dropout(convol, keep_prob)\n",
    "    \n",
    "    convol2 = conv2d_maxpool(convol_1drop, conv_num_outputs2, conv_ksize, conv_strides, pool_ksize, pool_strides)\n",
    "    convol_2drop = tf.nn.dropout(convol2, keep_prob)\n",
    "    \n",
    "    convol3 = conv2d_maxpool(convol_2drop, conv_num_outputs3, conv_ksize, conv_strides, pool_ksize, pool_strides)\n",
    "    convol_3drop = tf.nn.dropout(convol3, keep_prob)\n",
    "    \n",
    "    # TODO: Apply a Flatten Layer\n",
    "    # Function Definition from Above:\n",
    "    #   flatten(x_tensor)\n",
    "    flat = flatten(convol)    \n",
    "    \n",
    "    # TODO: Apply 1, 2, or 3 Fully Connected Layers\n",
    "    #    Play around with different number of outputs\n",
    "    # Function Definition from Above:\n",
    "    #   fully_conn(x_tensor, num_outputs)\n",
    "\n",
    "    full = fully_conn(flat, 512)\n",
    "    \n",
    "    \n",
    "    \n",
    "    # TODO: Apply an Output Layer\n",
    "    #    Set this to the number of classes\n",
    "    # Function Definition from Above:\n",
    "    #   output(x_tensor, num_outputs)\n",
    "    \n",
    "    out = output(full, 10)\n",
    "    \n",
    "    \n",
    "    # TODO: return output\n",
    "    return out\n",
    "\n",
    "\n",
    "\"\"\"\n",
    "DON'T MODIFY ANYTHING IN THIS CELL THAT IS BELOW THIS LINE\n",
    "\"\"\"\n",
    "\n",
    "##############################\n",
    "## Build the Neural Network ##\n",
    "##############################\n",
    "\n",
    "# Remove previous weights, bias, inputs, etc..\n",
    "tf.reset_default_graph()\n",
    "\n",
    "# Inputs\n",
    "x = neural_net_image_input((32, 32, 3))\n",
    "y = neural_net_label_input(10)\n",
    "keep_prob = neural_net_keep_prob_input()\n",
    "\n",
    "# Model\n",
    "logits = conv_net(x, keep_prob)\n",
    "\n",
    "# Name logits Tensor, so that is can be loaded from disk after training\n",
    "logits = tf.identity(logits, name='logits')\n",
    "\n",
    "# Loss and Optimizer\n",
    "cost = tf.reduce_mean(tf.nn.softmax_cross_entropy_with_logits(logits=logits, labels=y))\n",
    "optimizer = tf.train.AdamOptimizer().minimize(cost)\n",
    "\n",
    "# Accuracy\n",
    "correct_pred = tf.equal(tf.argmax(logits, 1), tf.argmax(y, 1))\n",
    "accuracy = tf.reduce_mean(tf.cast(correct_pred, tf.float32), name='accuracy')\n",
    "\n",
    "tests.test_conv_net(conv_net)"
   ]
  },
  {
   "cell_type": "markdown",
   "metadata": {},
   "source": [
    "## Train the Neural Network\n",
    "### Single Optimization\n",
    "Implement the function `train_neural_network` to do a single optimization.  The optimization should use `optimizer` to optimize in `session` with a `feed_dict` of the following:\n",
    "* `x` for image input\n",
    "* `y` for labels\n",
    "* `keep_prob` for keep probability for dropout\n",
    "\n",
    "This function will be called for each batch, so `tf.global_variables_initializer()` has already been called.\n",
    "\n",
    "Note: Nothing needs to be returned. This function is only optimizing the neural network."
   ]
  },
  {
   "cell_type": "code",
   "execution_count": 151,
   "metadata": {
    "collapsed": false
   },
   "outputs": [
    {
     "name": "stdout",
     "output_type": "stream",
     "text": [
      "Tests Passed\n"
     ]
    }
   ],
   "source": [
    "def train_neural_network(session, optimizer, keep_probability, feature_batch, label_batch):\n",
    "    \"\"\"\n",
    "    Optimize the session on a batch of images and labels\n",
    "    : session: Current TensorFlow session\n",
    "    : optimizer: TensorFlow optimizer function\n",
    "    : keep_probability: keep probability\n",
    "    : feature_batch: Batch of Numpy image data\n",
    "    : label_batch: Batch of Numpy label data\n",
    "    \"\"\"\n",
    "    # TODO: Implement Function\n",
    "    \n",
    "    session.run(optimizer, feed_dict={keep_prob: keep_probability ,x: feature_batch, y: label_batch})\n",
    "        \n",
    "\n",
    "\n",
    "\n",
    "\"\"\"\n",
    "DON'T MODIFY ANYTHING IN THIS CELL THAT IS BELOW THIS LINE\n",
    "\"\"\"\n",
    "tests.test_train_nn(train_neural_network)"
   ]
  },
  {
   "cell_type": "markdown",
   "metadata": {},
   "source": [
    "### Show Stats\n",
    "Implement the function `print_stats` to print loss and validation accuracy.  Use the global variables `valid_features` and `valid_labels` to calculate validation accuracy.  Use a keep probability of `1.0` to calculate the loss and validation accuracy."
   ]
  },
  {
   "cell_type": "code",
   "execution_count": 152,
   "metadata": {
    "collapsed": false
   },
   "outputs": [],
   "source": [
    "def print_stats(session, feature_batch, label_batch, cost, accuracy):\n",
    "    \"\"\"\n",
    "    Print information about loss and validation accuracy\n",
    "    : session: Current TensorFlow session\n",
    "    : feature_batch: Batch of Numpy image data\n",
    "    : label_batch: Batch of Numpy label data\n",
    "    : cost: TensorFlow cost function\n",
    "    : accuracy: TensorFlow accuracy function\n",
    "    \"\"\"\n",
    "    # TODO: Implement Function\n",
    "    loss = session.run(cost, feed_dict={x: feature_batch, y: label_batch, keep_prob: 1})\n",
    "    valid_acc = sess.run(accuracy, feed_dict={x: valid_features, y: valid_labels, keep_prob: 1})\n",
    "    print('Loss: {:10.4f} Validation Accuracy: {:.6f}'.format(loss, valid_acc))"
   ]
  },
  {
   "cell_type": "markdown",
   "metadata": {},
   "source": [
    "### Hyperparameters\n",
    "Tune the following parameters:\n",
    "* Set `epochs` to the number of iterations until the network stops learning or start overfitting\n",
    "* Set `batch_size` to the highest number that your machine has memory for.  Most people set them to common sizes of memory:\n",
    " * 64\n",
    " * 128\n",
    " * 256\n",
    " * ...\n",
    "* Set `keep_probability` to the probability of keeping a node using dropout"
   ]
  },
  {
   "cell_type": "code",
   "execution_count": 153,
   "metadata": {
    "collapsed": false
   },
   "outputs": [],
   "source": [
    "# TODO: Tune Parameters\n",
    "epochs = 40\n",
    "batch_size = 128\n",
    "keep_probability =0.5"
   ]
  },
  {
   "cell_type": "markdown",
   "metadata": {},
   "source": [
    "### Train on a Single CIFAR-10 Batch\n",
    "Instead of training the neural network on all the CIFAR-10 batches of data, let's use a single batch. This should save time while you iterate on the model to get a better accuracy.  Once the final validation accuracy is 50% or greater, run the model on all the data in the next section."
   ]
  },
  {
   "cell_type": "code",
   "execution_count": 154,
   "metadata": {
    "collapsed": false
   },
   "outputs": [
    {
     "name": "stdout",
     "output_type": "stream",
     "text": [
      "Checking the Training on a Single Batch...\n",
      "Epoch  1, CIFAR-10 Batch 1:  Loss:     1.8616 Validation Accuracy: 0.356200\n",
      "Epoch  2, CIFAR-10 Batch 1:  Loss:     1.5516 Validation Accuracy: 0.452000\n",
      "Epoch  3, CIFAR-10 Batch 1:  Loss:     1.3003 Validation Accuracy: 0.481600\n",
      "Epoch  4, CIFAR-10 Batch 1:  Loss:     1.1027 Validation Accuracy: 0.508400\n",
      "Epoch  5, CIFAR-10 Batch 1:  Loss:     0.9534 Validation Accuracy: 0.525000\n",
      "Epoch  6, CIFAR-10 Batch 1:  Loss:     0.8254 Validation Accuracy: 0.533000\n",
      "Epoch  7, CIFAR-10 Batch 1:  Loss:     0.7094 Validation Accuracy: 0.543400\n",
      "Epoch  8, CIFAR-10 Batch 1:  Loss:     0.5972 Validation Accuracy: 0.547400\n",
      "Epoch  9, CIFAR-10 Batch 1:  Loss:     0.5005 Validation Accuracy: 0.549600\n",
      "Epoch 10, CIFAR-10 Batch 1:  Loss:     0.4211 Validation Accuracy: 0.545000\n",
      "Epoch 11, CIFAR-10 Batch 1:  Loss:     0.3369 Validation Accuracy: 0.538600\n",
      "Epoch 12, CIFAR-10 Batch 1:  Loss:     0.2777 Validation Accuracy: 0.543000\n",
      "Epoch 13, CIFAR-10 Batch 1:  Loss:     0.2544 Validation Accuracy: 0.543200\n",
      "Epoch 14, CIFAR-10 Batch 1:  Loss:     0.2027 Validation Accuracy: 0.537200\n",
      "Epoch 15, CIFAR-10 Batch 1:  Loss:     0.1515 Validation Accuracy: 0.548600\n",
      "Epoch 16, CIFAR-10 Batch 1:  Loss:     0.1227 Validation Accuracy: 0.548200\n",
      "Epoch 17, CIFAR-10 Batch 1:  Loss:     0.1058 Validation Accuracy: 0.551800\n",
      "Epoch 18, CIFAR-10 Batch 1:  Loss:     0.1107 Validation Accuracy: 0.548000\n",
      "Epoch 19, CIFAR-10 Batch 1:  Loss:     0.1025 Validation Accuracy: 0.547800\n",
      "Epoch 20, CIFAR-10 Batch 1:  Loss:     0.0847 Validation Accuracy: 0.549400\n",
      "Epoch 21, CIFAR-10 Batch 1:  Loss:     0.0810 Validation Accuracy: 0.549200\n",
      "Epoch 22, CIFAR-10 Batch 1:  Loss:     0.1009 Validation Accuracy: 0.528600\n",
      "Epoch 23, CIFAR-10 Batch 1:  Loss:     0.0911 Validation Accuracy: 0.501600\n",
      "Epoch 24, CIFAR-10 Batch 1:  Loss:     0.0493 Validation Accuracy: 0.521200\n",
      "Epoch 25, CIFAR-10 Batch 1:  Loss:     0.0336 Validation Accuracy: 0.548200\n",
      "Epoch 26, CIFAR-10 Batch 1:  Loss:     0.0360 Validation Accuracy: 0.541400\n",
      "Epoch 27, CIFAR-10 Batch 1:  Loss:     0.0279 Validation Accuracy: 0.544400\n",
      "Epoch 28, CIFAR-10 Batch 1:  Loss:     0.0359 Validation Accuracy: 0.536800\n",
      "Epoch 29, CIFAR-10 Batch 1:  Loss:     0.0354 Validation Accuracy: 0.519200\n",
      "Epoch 30, CIFAR-10 Batch 1:  Loss:     0.0214 Validation Accuracy: 0.544800\n",
      "Epoch 31, CIFAR-10 Batch 1:  Loss:     0.0178 Validation Accuracy: 0.548200\n",
      "Epoch 32, CIFAR-10 Batch 1:  Loss:     0.0170 Validation Accuracy: 0.546800\n",
      "Epoch 33, CIFAR-10 Batch 1:  Loss:     0.0176 Validation Accuracy: 0.536000\n",
      "Epoch 34, CIFAR-10 Batch 1:  Loss:     0.0237 Validation Accuracy: 0.524400\n",
      "Epoch 35, CIFAR-10 Batch 1:  Loss:     0.0102 Validation Accuracy: 0.527200\n",
      "Epoch 36, CIFAR-10 Batch 1:  Loss:     0.0079 Validation Accuracy: 0.529000\n",
      "Epoch 37, CIFAR-10 Batch 1:  Loss:     0.0052 Validation Accuracy: 0.545800\n",
      "Epoch 38, CIFAR-10 Batch 1:  Loss:     0.0050 Validation Accuracy: 0.544600\n",
      "Epoch 39, CIFAR-10 Batch 1:  Loss:     0.0048 Validation Accuracy: 0.548400\n",
      "Epoch 40, CIFAR-10 Batch 1:  Loss:     0.0044 Validation Accuracy: 0.546000\n"
     ]
    }
   ],
   "source": [
    "\"\"\"\n",
    "DON'T MODIFY ANYTHING IN THIS CELL\n",
    "\"\"\"\n",
    "print('Checking the Training on a Single Batch...')\n",
    "with tf.Session() as sess:\n",
    "    # Initializing the variables\n",
    "    sess.run(tf.global_variables_initializer())\n",
    "    \n",
    "    # Training cycle\n",
    "    for epoch in range(epochs):\n",
    "        batch_i = 1\n",
    "        for batch_features, batch_labels in helper.load_preprocess_training_batch(batch_i, batch_size):\n",
    "            train_neural_network(sess, optimizer, keep_probability, batch_features, batch_labels)\n",
    "        print('Epoch {:>2}, CIFAR-10 Batch {}:  '.format(epoch + 1, batch_i), end='')\n",
    "        print_stats(sess, batch_features, batch_labels, cost, accuracy)"
   ]
  },
  {
   "cell_type": "markdown",
   "metadata": {},
   "source": [
    "### Fully Train the Model\n",
    "Now that you got a good accuracy with a single CIFAR-10 batch, try it with all five batches."
   ]
  },
  {
   "cell_type": "code",
   "execution_count": 155,
   "metadata": {
    "collapsed": false
   },
   "outputs": [
    {
     "name": "stdout",
     "output_type": "stream",
     "text": [
      "Training...\n",
      "Epoch  1, CIFAR-10 Batch 1:  Loss:     1.8679 Validation Accuracy: 0.378800\n",
      "Epoch  1, CIFAR-10 Batch 2:  Loss:     1.3994 Validation Accuracy: 0.461000\n",
      "Epoch  1, CIFAR-10 Batch 3:  Loss:     1.2940 Validation Accuracy: 0.495200\n",
      "Epoch  1, CIFAR-10 Batch 4:  Loss:     1.2291 Validation Accuracy: 0.504800\n",
      "Epoch  1, CIFAR-10 Batch 5:  Loss:     1.3915 Validation Accuracy: 0.526400\n",
      "Epoch  2, CIFAR-10 Batch 1:  Loss:     1.4510 Validation Accuracy: 0.538800\n",
      "Epoch  2, CIFAR-10 Batch 2:  Loss:     0.9606 Validation Accuracy: 0.553000\n",
      "Epoch  2, CIFAR-10 Batch 3:  Loss:     0.9394 Validation Accuracy: 0.544400\n",
      "Epoch  2, CIFAR-10 Batch 4:  Loss:     0.9560 Validation Accuracy: 0.565400\n",
      "Epoch  2, CIFAR-10 Batch 5:  Loss:     1.0777 Validation Accuracy: 0.576200\n",
      "Epoch  3, CIFAR-10 Batch 1:  Loss:     1.2610 Validation Accuracy: 0.571200\n",
      "Epoch  3, CIFAR-10 Batch 2:  Loss:     0.7894 Validation Accuracy: 0.588200\n",
      "Epoch  3, CIFAR-10 Batch 3:  Loss:     0.7359 Validation Accuracy: 0.564800\n",
      "Epoch  3, CIFAR-10 Batch 4:  Loss:     0.7748 Validation Accuracy: 0.598600\n",
      "Epoch  3, CIFAR-10 Batch 5:  Loss:     0.8357 Validation Accuracy: 0.604600\n",
      "Epoch  4, CIFAR-10 Batch 1:  Loss:     1.0511 Validation Accuracy: 0.597800\n",
      "Epoch  4, CIFAR-10 Batch 2:  Loss:     0.6189 Validation Accuracy: 0.610800\n",
      "Epoch  4, CIFAR-10 Batch 3:  Loss:     0.5160 Validation Accuracy: 0.594000\n",
      "Epoch  4, CIFAR-10 Batch 4:  Loss:     0.6366 Validation Accuracy: 0.615800\n",
      "Epoch  4, CIFAR-10 Batch 5:  Loss:     0.6409 Validation Accuracy: 0.619800\n",
      "Epoch  5, CIFAR-10 Batch 1:  Loss:     0.8750 Validation Accuracy: 0.614600\n",
      "Epoch  5, CIFAR-10 Batch 2:  Loss:     0.4599 Validation Accuracy: 0.621200\n",
      "Epoch  5, CIFAR-10 Batch 3:  Loss:     0.3722 Validation Accuracy: 0.612800\n",
      "Epoch  5, CIFAR-10 Batch 4:  Loss:     0.5051 Validation Accuracy: 0.625800\n",
      "Epoch  5, CIFAR-10 Batch 5:  Loss:     0.5114 Validation Accuracy: 0.628400\n",
      "Epoch  6, CIFAR-10 Batch 1:  Loss:     0.7053 Validation Accuracy: 0.622200\n",
      "Epoch  6, CIFAR-10 Batch 2:  Loss:     0.3132 Validation Accuracy: 0.632200\n",
      "Epoch  6, CIFAR-10 Batch 3:  Loss:     0.2837 Validation Accuracy: 0.626200\n",
      "Epoch  6, CIFAR-10 Batch 4:  Loss:     0.3757 Validation Accuracy: 0.629400\n",
      "Epoch  6, CIFAR-10 Batch 5:  Loss:     0.3904 Validation Accuracy: 0.633000\n",
      "Epoch  7, CIFAR-10 Batch 1:  Loss:     0.5709 Validation Accuracy: 0.616600\n",
      "Epoch  7, CIFAR-10 Batch 2:  Loss:     0.2119 Validation Accuracy: 0.633400\n",
      "Epoch  7, CIFAR-10 Batch 3:  Loss:     0.2118 Validation Accuracy: 0.632600\n",
      "Epoch  7, CIFAR-10 Batch 4:  Loss:     0.2766 Validation Accuracy: 0.624400\n",
      "Epoch  7, CIFAR-10 Batch 5:  Loss:     0.2933 Validation Accuracy: 0.631400\n",
      "Epoch  8, CIFAR-10 Batch 1:  Loss:     0.4478 Validation Accuracy: 0.634400\n",
      "Epoch  8, CIFAR-10 Batch 2:  Loss:     0.1509 Validation Accuracy: 0.621200\n",
      "Epoch  8, CIFAR-10 Batch 3:  Loss:     0.1696 Validation Accuracy: 0.628400\n",
      "Epoch  8, CIFAR-10 Batch 4:  Loss:     0.2075 Validation Accuracy: 0.621000\n",
      "Epoch  8, CIFAR-10 Batch 5:  Loss:     0.2366 Validation Accuracy: 0.624800\n",
      "Epoch  9, CIFAR-10 Batch 1:  Loss:     0.3936 Validation Accuracy: 0.625000\n",
      "Epoch  9, CIFAR-10 Batch 2:  Loss:     0.1030 Validation Accuracy: 0.621000\n",
      "Epoch  9, CIFAR-10 Batch 3:  Loss:     0.1283 Validation Accuracy: 0.631200\n",
      "Epoch  9, CIFAR-10 Batch 4:  Loss:     0.1533 Validation Accuracy: 0.633200\n",
      "Epoch  9, CIFAR-10 Batch 5:  Loss:     0.2286 Validation Accuracy: 0.607200\n",
      "Epoch 10, CIFAR-10 Batch 1:  Loss:     0.2647 Validation Accuracy: 0.630000\n",
      "Epoch 10, CIFAR-10 Batch 2:  Loss:     0.0858 Validation Accuracy: 0.632200\n",
      "Epoch 10, CIFAR-10 Batch 3:  Loss:     0.1077 Validation Accuracy: 0.634600\n",
      "Epoch 10, CIFAR-10 Batch 4:  Loss:     0.1279 Validation Accuracy: 0.637000\n",
      "Epoch 10, CIFAR-10 Batch 5:  Loss:     0.1608 Validation Accuracy: 0.603800\n",
      "Epoch 11, CIFAR-10 Batch 1:  Loss:     0.2018 Validation Accuracy: 0.628600\n",
      "Epoch 11, CIFAR-10 Batch 2:  Loss:     0.0817 Validation Accuracy: 0.625000\n",
      "Epoch 11, CIFAR-10 Batch 3:  Loss:     0.1021 Validation Accuracy: 0.622400\n",
      "Epoch 11, CIFAR-10 Batch 4:  Loss:     0.1199 Validation Accuracy: 0.624400\n",
      "Epoch 11, CIFAR-10 Batch 5:  Loss:     0.0962 Validation Accuracy: 0.629000\n",
      "Epoch 12, CIFAR-10 Batch 1:  Loss:     0.1324 Validation Accuracy: 0.628800\n",
      "Epoch 12, CIFAR-10 Batch 2:  Loss:     0.0691 Validation Accuracy: 0.615000\n",
      "Epoch 12, CIFAR-10 Batch 3:  Loss:     0.0996 Validation Accuracy: 0.609200\n",
      "Epoch 12, CIFAR-10 Batch 4:  Loss:     0.0997 Validation Accuracy: 0.620600\n",
      "Epoch 12, CIFAR-10 Batch 5:  Loss:     0.0713 Validation Accuracy: 0.646000\n",
      "Epoch 13, CIFAR-10 Batch 1:  Loss:     0.1006 Validation Accuracy: 0.639800\n",
      "Epoch 13, CIFAR-10 Batch 2:  Loss:     0.0581 Validation Accuracy: 0.624800\n",
      "Epoch 13, CIFAR-10 Batch 3:  Loss:     0.0491 Validation Accuracy: 0.627600\n",
      "Epoch 13, CIFAR-10 Batch 4:  Loss:     0.0911 Validation Accuracy: 0.618600\n",
      "Epoch 13, CIFAR-10 Batch 5:  Loss:     0.0547 Validation Accuracy: 0.650400\n",
      "Epoch 14, CIFAR-10 Batch 1:  Loss:     0.0806 Validation Accuracy: 0.646800\n",
      "Epoch 14, CIFAR-10 Batch 2:  Loss:     0.0491 Validation Accuracy: 0.610000\n",
      "Epoch 14, CIFAR-10 Batch 3:  Loss:     0.0366 Validation Accuracy: 0.629200\n",
      "Epoch 14, CIFAR-10 Batch 4:  Loss:     0.0681 Validation Accuracy: 0.626600\n",
      "Epoch 14, CIFAR-10 Batch 5:  Loss:     0.0506 Validation Accuracy: 0.646400\n",
      "Epoch 15, CIFAR-10 Batch 1:  Loss:     0.0738 Validation Accuracy: 0.655400\n",
      "Epoch 15, CIFAR-10 Batch 2:  Loss:     0.0425 Validation Accuracy: 0.598000\n",
      "Epoch 15, CIFAR-10 Batch 3:  Loss:     0.0399 Validation Accuracy: 0.624000\n",
      "Epoch 15, CIFAR-10 Batch 4:  Loss:     0.0520 Validation Accuracy: 0.633800\n",
      "Epoch 15, CIFAR-10 Batch 5:  Loss:     0.0535 Validation Accuracy: 0.629400\n",
      "Epoch 16, CIFAR-10 Batch 1:  Loss:     0.0636 Validation Accuracy: 0.633600\n",
      "Epoch 16, CIFAR-10 Batch 2:  Loss:     0.0431 Validation Accuracy: 0.609000\n",
      "Epoch 16, CIFAR-10 Batch 3:  Loss:     0.0255 Validation Accuracy: 0.624600\n",
      "Epoch 16, CIFAR-10 Batch 4:  Loss:     0.0517 Validation Accuracy: 0.634600\n",
      "Epoch 16, CIFAR-10 Batch 5:  Loss:     0.0547 Validation Accuracy: 0.618400\n",
      "Epoch 17, CIFAR-10 Batch 1:  Loss:     0.0565 Validation Accuracy: 0.625800\n",
      "Epoch 17, CIFAR-10 Batch 2:  Loss:     0.0301 Validation Accuracy: 0.640000\n",
      "Epoch 17, CIFAR-10 Batch 3:  Loss:     0.0306 Validation Accuracy: 0.610400\n",
      "Epoch 17, CIFAR-10 Batch 4:  Loss:     0.0400 Validation Accuracy: 0.629800\n",
      "Epoch 17, CIFAR-10 Batch 5:  Loss:     0.0400 Validation Accuracy: 0.609200\n",
      "Epoch 18, CIFAR-10 Batch 1:  Loss:     0.0533 Validation Accuracy: 0.630000\n",
      "Epoch 18, CIFAR-10 Batch 2:  Loss:     0.0309 Validation Accuracy: 0.621400\n",
      "Epoch 18, CIFAR-10 Batch 3:  Loss:     0.0278 Validation Accuracy: 0.581800\n",
      "Epoch 18, CIFAR-10 Batch 4:  Loss:     0.0318 Validation Accuracy: 0.607000\n",
      "Epoch 18, CIFAR-10 Batch 5:  Loss:     0.0251 Validation Accuracy: 0.628000\n",
      "Epoch 19, CIFAR-10 Batch 1:  Loss:     0.0523 Validation Accuracy: 0.638600\n",
      "Epoch 19, CIFAR-10 Batch 2:  Loss:     0.0234 Validation Accuracy: 0.602600\n",
      "Epoch 19, CIFAR-10 Batch 3:  Loss:     0.0242 Validation Accuracy: 0.604600\n",
      "Epoch 19, CIFAR-10 Batch 4:  Loss:     0.0224 Validation Accuracy: 0.628600\n",
      "Epoch 19, CIFAR-10 Batch 5:  Loss:     0.0206 Validation Accuracy: 0.624400\n",
      "Epoch 20, CIFAR-10 Batch 1:  Loss:     0.0387 Validation Accuracy: 0.637600\n",
      "Epoch 20, CIFAR-10 Batch 2:  Loss:     0.0123 Validation Accuracy: 0.619400\n",
      "Epoch 20, CIFAR-10 Batch 3:  Loss:     0.0117 Validation Accuracy: 0.625800\n",
      "Epoch 20, CIFAR-10 Batch 4:  Loss:     0.0252 Validation Accuracy: 0.605400\n",
      "Epoch 20, CIFAR-10 Batch 5:  Loss:     0.0111 Validation Accuracy: 0.633400\n",
      "Epoch 21, CIFAR-10 Batch 1:  Loss:     0.0258 Validation Accuracy: 0.630800\n",
      "Epoch 21, CIFAR-10 Batch 2:  Loss:     0.0143 Validation Accuracy: 0.619200\n",
      "Epoch 21, CIFAR-10 Batch 3:  Loss:     0.0100 Validation Accuracy: 0.636000\n",
      "Epoch 21, CIFAR-10 Batch 4:  Loss:     0.0274 Validation Accuracy: 0.608000\n",
      "Epoch 21, CIFAR-10 Batch 5:  Loss:     0.0124 Validation Accuracy: 0.629400\n",
      "Epoch 22, CIFAR-10 Batch 1:  Loss:     0.0274 Validation Accuracy: 0.635400\n",
      "Epoch 22, CIFAR-10 Batch 2:  Loss:     0.0129 Validation Accuracy: 0.615400\n",
      "Epoch 22, CIFAR-10 Batch 3:  Loss:     0.0108 Validation Accuracy: 0.631800\n",
      "Epoch 22, CIFAR-10 Batch 4:  Loss:     0.0199 Validation Accuracy: 0.621200\n",
      "Epoch 22, CIFAR-10 Batch 5:  Loss:     0.0143 Validation Accuracy: 0.641400\n",
      "Epoch 23, CIFAR-10 Batch 1:  Loss:     0.0302 Validation Accuracy: 0.622200\n",
      "Epoch 23, CIFAR-10 Batch 2:  Loss:     0.0099 Validation Accuracy: 0.604800\n",
      "Epoch 23, CIFAR-10 Batch 3:  Loss:     0.0084 Validation Accuracy: 0.625800\n",
      "Epoch 23, CIFAR-10 Batch 4:  Loss:     0.0116 Validation Accuracy: 0.627000\n",
      "Epoch 23, CIFAR-10 Batch 5:  Loss:     0.0078 Validation Accuracy: 0.641200\n",
      "Epoch 24, CIFAR-10 Batch 1:  Loss:     0.0147 Validation Accuracy: 0.626200\n",
      "Epoch 24, CIFAR-10 Batch 2:  Loss:     0.0086 Validation Accuracy: 0.609600\n",
      "Epoch 24, CIFAR-10 Batch 3:  Loss:     0.0085 Validation Accuracy: 0.632000\n",
      "Epoch 24, CIFAR-10 Batch 4:  Loss:     0.0148 Validation Accuracy: 0.627200\n",
      "Epoch 24, CIFAR-10 Batch 5:  Loss:     0.0097 Validation Accuracy: 0.648000\n",
      "Epoch 25, CIFAR-10 Batch 1:  Loss:     0.0318 Validation Accuracy: 0.618000\n",
      "Epoch 25, CIFAR-10 Batch 2:  Loss:     0.0120 Validation Accuracy: 0.611200\n",
      "Epoch 25, CIFAR-10 Batch 3:  Loss:     0.0103 Validation Accuracy: 0.637200\n",
      "Epoch 25, CIFAR-10 Batch 4:  Loss:     0.0226 Validation Accuracy: 0.604600\n",
      "Epoch 25, CIFAR-10 Batch 5:  Loss:     0.0131 Validation Accuracy: 0.645400\n",
      "Epoch 26, CIFAR-10 Batch 1:  Loss:     0.0243 Validation Accuracy: 0.633000\n",
      "Epoch 26, CIFAR-10 Batch 2:  Loss:     0.0154 Validation Accuracy: 0.610400\n",
      "Epoch 26, CIFAR-10 Batch 3:  Loss:     0.0114 Validation Accuracy: 0.634400\n",
      "Epoch 26, CIFAR-10 Batch 4:  Loss:     0.0527 Validation Accuracy: 0.566000\n",
      "Epoch 26, CIFAR-10 Batch 5:  Loss:     0.0187 Validation Accuracy: 0.615400\n",
      "Epoch 27, CIFAR-10 Batch 1:  Loss:     0.0157 Validation Accuracy: 0.617000\n",
      "Epoch 27, CIFAR-10 Batch 2:  Loss:     0.0076 Validation Accuracy: 0.619000\n",
      "Epoch 27, CIFAR-10 Batch 3:  Loss:     0.0066 Validation Accuracy: 0.630600\n",
      "Epoch 27, CIFAR-10 Batch 4:  Loss:     0.0104 Validation Accuracy: 0.595200\n",
      "Epoch 27, CIFAR-10 Batch 5:  Loss:     0.0058 Validation Accuracy: 0.622400\n",
      "Epoch 28, CIFAR-10 Batch 1:  Loss:     0.0132 Validation Accuracy: 0.623800\n",
      "Epoch 28, CIFAR-10 Batch 2:  Loss:     0.0156 Validation Accuracy: 0.611400\n",
      "Epoch 28, CIFAR-10 Batch 3:  Loss:     0.0107 Validation Accuracy: 0.622000\n",
      "Epoch 28, CIFAR-10 Batch 4:  Loss:     0.0160 Validation Accuracy: 0.628800\n",
      "Epoch 28, CIFAR-10 Batch 5:  Loss:     0.0106 Validation Accuracy: 0.634400\n",
      "Epoch 29, CIFAR-10 Batch 1:  Loss:     0.0151 Validation Accuracy: 0.624600\n",
      "Epoch 29, CIFAR-10 Batch 2:  Loss:     0.0073 Validation Accuracy: 0.628600\n",
      "Epoch 29, CIFAR-10 Batch 3:  Loss:     0.0131 Validation Accuracy: 0.620000\n",
      "Epoch 29, CIFAR-10 Batch 4:  Loss:     0.0041 Validation Accuracy: 0.638800\n",
      "Epoch 29, CIFAR-10 Batch 5:  Loss:     0.0038 Validation Accuracy: 0.639000\n",
      "Epoch 30, CIFAR-10 Batch 1:  Loss:     0.0184 Validation Accuracy: 0.605400\n",
      "Epoch 30, CIFAR-10 Batch 2:  Loss:     0.0045 Validation Accuracy: 0.602000\n",
      "Epoch 30, CIFAR-10 Batch 3:  Loss:     0.0034 Validation Accuracy: 0.641200\n",
      "Epoch 30, CIFAR-10 Batch 4:  Loss:     0.0029 Validation Accuracy: 0.638200\n",
      "Epoch 30, CIFAR-10 Batch 5:  Loss:     0.0032 Validation Accuracy: 0.647200\n",
      "Epoch 31, CIFAR-10 Batch 1:  Loss:     0.0056 Validation Accuracy: 0.605600\n",
      "Epoch 31, CIFAR-10 Batch 2:  Loss:     0.0009 Validation Accuracy: 0.629800\n",
      "Epoch 31, CIFAR-10 Batch 3:  Loss:     0.0026 Validation Accuracy: 0.641800\n",
      "Epoch 31, CIFAR-10 Batch 4:  Loss:     0.0019 Validation Accuracy: 0.640600\n",
      "Epoch 31, CIFAR-10 Batch 5:  Loss:     0.0037 Validation Accuracy: 0.648600\n",
      "Epoch 32, CIFAR-10 Batch 1:  Loss:     0.0074 Validation Accuracy: 0.613000\n",
      "Epoch 32, CIFAR-10 Batch 2:  Loss:     0.0012 Validation Accuracy: 0.634000\n",
      "Epoch 32, CIFAR-10 Batch 3:  Loss:     0.0025 Validation Accuracy: 0.639200\n",
      "Epoch 32, CIFAR-10 Batch 4:  Loss:     0.0017 Validation Accuracy: 0.637200\n",
      "Epoch 32, CIFAR-10 Batch 5:  Loss:     0.0027 Validation Accuracy: 0.648400\n",
      "Epoch 33, CIFAR-10 Batch 1:  Loss:     0.0082 Validation Accuracy: 0.611400\n",
      "Epoch 33, CIFAR-10 Batch 2:  Loss:     0.0013 Validation Accuracy: 0.640800\n",
      "Epoch 33, CIFAR-10 Batch 3:  Loss:     0.0020 Validation Accuracy: 0.648200\n",
      "Epoch 33, CIFAR-10 Batch 4:  Loss:     0.0013 Validation Accuracy: 0.644800\n",
      "Epoch 33, CIFAR-10 Batch 5:  Loss:     0.0024 Validation Accuracy: 0.634800\n",
      "Epoch 34, CIFAR-10 Batch 1:  Loss:     0.0076 Validation Accuracy: 0.605400\n",
      "Epoch 34, CIFAR-10 Batch 2:  Loss:     0.0017 Validation Accuracy: 0.614800\n",
      "Epoch 34, CIFAR-10 Batch 3:  Loss:     0.0015 Validation Accuracy: 0.642800\n",
      "Epoch 34, CIFAR-10 Batch 4:  Loss:     0.0033 Validation Accuracy: 0.643600\n",
      "Epoch 34, CIFAR-10 Batch 5:  Loss:     0.0018 Validation Accuracy: 0.648200\n",
      "Epoch 35, CIFAR-10 Batch 1:  Loss:     0.0012 Validation Accuracy: 0.647600\n",
      "Epoch 35, CIFAR-10 Batch 2:  Loss:     0.0011 Validation Accuracy: 0.624400\n",
      "Epoch 35, CIFAR-10 Batch 3:  Loss:     0.0027 Validation Accuracy: 0.631000\n",
      "Epoch 35, CIFAR-10 Batch 4:  Loss:     0.0021 Validation Accuracy: 0.639000\n",
      "Epoch 35, CIFAR-10 Batch 5:  Loss:     0.0033 Validation Accuracy: 0.632600\n",
      "Epoch 36, CIFAR-10 Batch 1:  Loss:     0.0021 Validation Accuracy: 0.636400\n",
      "Epoch 36, CIFAR-10 Batch 2:  Loss:     0.0014 Validation Accuracy: 0.617000\n",
      "Epoch 36, CIFAR-10 Batch 3:  Loss:     0.0024 Validation Accuracy: 0.624400\n",
      "Epoch 36, CIFAR-10 Batch 4:  Loss:     0.0031 Validation Accuracy: 0.635000\n",
      "Epoch 36, CIFAR-10 Batch 5:  Loss:     0.0027 Validation Accuracy: 0.633400\n",
      "Epoch 37, CIFAR-10 Batch 1:  Loss:     0.0004 Validation Accuracy: 0.639400\n",
      "Epoch 37, CIFAR-10 Batch 2:  Loss:     0.0014 Validation Accuracy: 0.618600\n",
      "Epoch 37, CIFAR-10 Batch 3:  Loss:     0.0009 Validation Accuracy: 0.630600\n",
      "Epoch 37, CIFAR-10 Batch 4:  Loss:     0.0017 Validation Accuracy: 0.637400\n",
      "Epoch 37, CIFAR-10 Batch 5:  Loss:     0.0009 Validation Accuracy: 0.637800\n",
      "Epoch 38, CIFAR-10 Batch 1:  Loss:     0.0031 Validation Accuracy: 0.627800\n",
      "Epoch 38, CIFAR-10 Batch 2:  Loss:     0.0007 Validation Accuracy: 0.620600\n",
      "Epoch 38, CIFAR-10 Batch 3:  Loss:     0.0016 Validation Accuracy: 0.633800\n",
      "Epoch 38, CIFAR-10 Batch 4:  Loss:     0.0020 Validation Accuracy: 0.632000\n",
      "Epoch 38, CIFAR-10 Batch 5:  Loss:     0.0019 Validation Accuracy: 0.634600\n",
      "Epoch 39, CIFAR-10 Batch 1:  Loss:     0.0035 Validation Accuracy: 0.626000\n",
      "Epoch 39, CIFAR-10 Batch 2:  Loss:     0.0008 Validation Accuracy: 0.630000\n",
      "Epoch 39, CIFAR-10 Batch 3:  Loss:     0.0016 Validation Accuracy: 0.633200\n",
      "Epoch 39, CIFAR-10 Batch 4:  Loss:     0.0027 Validation Accuracy: 0.630000\n",
      "Epoch 39, CIFAR-10 Batch 5:  Loss:     0.0021 Validation Accuracy: 0.634800\n",
      "Epoch 40, CIFAR-10 Batch 1:  Loss:     0.0011 Validation Accuracy: 0.641200\n",
      "Epoch 40, CIFAR-10 Batch 2:  Loss:     0.0006 Validation Accuracy: 0.623400\n",
      "Epoch 40, CIFAR-10 Batch 3:  Loss:     0.0009 Validation Accuracy: 0.641000\n",
      "Epoch 40, CIFAR-10 Batch 4:  Loss:     0.0011 Validation Accuracy: 0.639400\n",
      "Epoch 40, CIFAR-10 Batch 5:  Loss:     0.0017 Validation Accuracy: 0.635000\n"
     ]
    }
   ],
   "source": [
    "\"\"\"\n",
    "DON'T MODIFY ANYTHING IN THIS CELL\n",
    "\"\"\"\n",
    "save_model_path = './image_classification'\n",
    "\n",
    "print('Training...')\n",
    "with tf.Session() as sess:\n",
    "    # Initializing the variables\n",
    "    sess.run(tf.global_variables_initializer())\n",
    "    \n",
    "    # Training cycle\n",
    "    for epoch in range(epochs):\n",
    "        # Loop over all batches\n",
    "        n_batches = 5\n",
    "        for batch_i in range(1, n_batches + 1):\n",
    "            for batch_features, batch_labels in helper.load_preprocess_training_batch(batch_i, batch_size):\n",
    "                train_neural_network(sess, optimizer, keep_probability, batch_features, batch_labels)\n",
    "            print('Epoch {:>2}, CIFAR-10 Batch {}:  '.format(epoch + 1, batch_i), end='')\n",
    "            print_stats(sess, batch_features, batch_labels, cost, accuracy)\n",
    "            \n",
    "    # Save Model\n",
    "    saver = tf.train.Saver()\n",
    "    save_path = saver.save(sess, save_model_path)"
   ]
  },
  {
   "cell_type": "markdown",
   "metadata": {},
   "source": [
    "# Checkpoint\n",
    "The model has been saved to disk.\n",
    "## Test Model\n",
    "Test your model against the test dataset.  This will be your final accuracy. You should have an accuracy greater than 50%. If you don't, keep tweaking the model architecture and parameters."
   ]
  },
  {
   "cell_type": "code",
   "execution_count": 156,
   "metadata": {
    "collapsed": false
   },
   "outputs": [
    {
     "name": "stdout",
     "output_type": "stream",
     "text": [
      "Testing Accuracy: 0.6295490506329114\n",
      "\n"
     ]
    },
    {
     "data": {
      "image/png": "[encoded data removed]",
      "text/plain": [
       "<matplotlib.figure.Figure at 0x1cf80b9e9e8>"
      ]
     },
     "metadata": {
      "image/png": {
       "height": 319,
       "width": 353
      }
     },
     "output_type": "display_data"
    }
   ],
   "source": [
    "\"\"\"\n",
    "DON'T MODIFY ANYTHING IN THIS CELL\n",
    "\"\"\"\n",
    "%matplotlib inline\n",
    "%config InlineBackend.figure_format = 'retina'\n",
    "\n",
    "import tensorflow as tf\n",
    "import pickle\n",
    "import helper\n",
    "import random\n",
    "\n",
    "# Set batch size if not already set\n",
    "try:\n",
    "    if batch_size:\n",
    "        pass\n",
    "except NameError:\n",
    "    batch_size = 64\n",
    "\n",
    "save_model_path = './image_classification'\n",
    "n_samples = 4\n",
    "top_n_predictions = 3\n",
    "\n",
    "def test_model():\n",
    "    \"\"\"\n",
    "    Test the saved model against the test dataset\n",
    "    \"\"\"\n",
    "\n",
    "    test_features, test_labels = pickle.load(open('preprocess_training.p', mode='rb'))\n",
    "    loaded_graph = tf.Graph()\n",
    "\n",
    "    with tf.Session(graph=loaded_graph) as sess:\n",
    "        # Load model\n",
    "        loader = tf.train.import_meta_graph(save_model_path + '.meta')\n",
    "        loader.restore(sess, save_model_path)\n",
    "\n",
    "        # Get Tensors from loaded model\n",
    "        loaded_x = loaded_graph.get_tensor_by_name('x:0')\n",
    "        loaded_y = loaded_graph.get_tensor_by_name('y:0')\n",
    "        loaded_keep_prob = loaded_graph.get_tensor_by_name('keep_prob:0')\n",
    "        loaded_logits = loaded_graph.get_tensor_by_name('logits:0')\n",
    "        loaded_acc = loaded_graph.get_tensor_by_name('accuracy:0')\n",
    "        \n",
    "        # Get accuracy in batches for memory limitations\n",
    "        test_batch_acc_total = 0\n",
    "        test_batch_count = 0\n",
    "        \n",
    "        for train_feature_batch, train_label_batch in helper.batch_features_labels(test_features, test_labels, batch_size):\n",
    "            test_batch_acc_total += sess.run(\n",
    "                loaded_acc,\n",
    "                feed_dict={loaded_x: train_feature_batch, loaded_y: train_label_batch, loaded_keep_prob: 1.0})\n",
    "            test_batch_count += 1\n",
    "\n",
    "        print('Testing Accuracy: {}\\n'.format(test_batch_acc_total/test_batch_count))\n",
    "\n",
    "        # Print Random Samples\n",
    "        random_test_features, random_test_labels = tuple(zip(*random.sample(list(zip(test_features, test_labels)), n_samples)))\n",
    "        random_test_predictions = sess.run(\n",
    "            tf.nn.top_k(tf.nn.softmax(loaded_logits), top_n_predictions),\n",
    "            feed_dict={loaded_x: random_test_features, loaded_y: random_test_labels, loaded_keep_prob: 1.0})\n",
    "        helper.display_image_predictions(random_test_features, random_test_labels, random_test_predictions)\n",
    "\n",
    "\n",
    "test_model()"
   ]
  },
  {
   "cell_type": "markdown",
   "metadata": {},
   "source": [
    "## Why 50-80% Accuracy?\n",
    "You might be wondering why you can't get an accuracy any higher. First things first, 50% isn't bad for a simple CNN.  Pure guessing would get you 10% accuracy. However, you might notice people are getting scores [well above 80%](http://rodrigob.github.io/are_we_there_yet/build/classification_datasets_results.html#43494641522d3130).  That's because we haven't taught you all there is to know about neural networks. We still need to cover a few more techniques.\n",
    "## Submitting This Project\n",
    "When submitting this project, make sure to run all the cells before saving the notebook.  Save the notebook file as \"dlnd_image_classification.ipynb\" and save it as a HTML file under \"File\" -> \"Download as\".  Include the \"helper.py\" and \"problem_unittests.py\" files in your submission."
   ]
  }
 ],
 "metadata": {
  "kernelspec": {
   "display_name": "Python [default]",
   "language": "python",
   "name": "python3"
  },
  "language_info": {
   "codemirror_mode": {
    "name": "ipython",
    "version": 3
   },
   "file_extension": ".py",
   "mimetype": "text/x-python",
   "name": "python",
   "nbconvert_exporter": "python",
   "pygments_lexer": "ipython3",
   "version": "3.5.2"
  }
 },
 "nbformat": 4,
 "nbformat_minor": 0
}
